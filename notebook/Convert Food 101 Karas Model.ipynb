{
 "cells": [
  {
   "cell_type": "markdown",
   "metadata": {},
   "source": [
    "# Convert The `Food-101` Keras Model to CoreML\n",
    "\n",
    "This notebook will convert the [Food-101](https://github.com/stratospark/food-101-keras) trained Keras model and classification labels to a CoreML model. Run each script block by pressing `CTRL-Enter` or the `Run` button (Note: _`In [ ]` will change to `In [*]` when the script is running and eventually updating to `In [somenumber]` when done; some might take a while!_).\n",
    "\n",
    "More information can be found here:\n",
    "- [Deep learning food classification demo with Keras](http://blog.stratospark.com/deep-learning-applied-food-classification-deep-learning-keras.html)\n",
    "- Udacity's free [Core ML: Machine Learning of iOS](https://www.udacity.com/course/core-ml--ud1038) course is a great introduction."
   ]
  },
  {
   "cell_type": "markdown",
   "metadata": {},
   "source": [
    "## Import dependencies"
   ]
  },
  {
   "cell_type": "code",
   "execution_count": 1,
   "metadata": {
    "scrolled": true
   },
   "outputs": [],
   "source": [
    "from keras.models import load_model\n",
    "import coremltools"
   ]
  },
  {
   "cell_type": "markdown",
   "metadata": {},
   "source": [
    "## Download `Food-101` Keras model (if needed)\n",
    "\n",
    "These will be stored in [/tree/models](/tree/models). If you don't want to do this in this notebook but rather when building the docker image, you can download them in the `Dockerfile` by adding these lines after the workspace directory is created:\n",
    "\n",
    "```\n",
    "# Download example Food101 Keras model weights and labels\n",
    "RUN wget -O /workspace/models/keras-food101-model.hdf5 https://s3.amazonaws.com/stratospark/food-101/model4b.10-0.68.hdf5\n",
    "RUN wget -O /workspace/models/keras-food101-model-labels.txt https://github.com/stratospark/food-101-mobile/raw/43598fdc08500683bbc04f877ae069c38c8ac4c3/model_export/labels.txt\n",
    "```"
   ]
  },
  {
   "cell_type": "code",
   "execution_count": 2,
   "metadata": {},
   "outputs": [],
   "source": [
    "# Define the files to download\n",
    "basePath='/workspace/models/'\n",
    "files = [\n",
    "    {'name': 'Food 101 Model file', 'url': 'https://s3.amazonaws.com/stratospark/food-101/model4b.10-0.68.hdf5', 'path': basePath + 'keras-food101-model.hdf5'},\n",
    "    {'name': 'Food 101 Labels file', 'url': 'https://github.com/stratospark/food-101-mobile/raw/43598fdc08500683bbc04f877ae069c38c8ac4c3/model_export/labels.txt', 'path': basePath + 'keras-food101-model-labels.txt'}\n",
    "]\n",
    "\n",
    "# Convenience method that will download the given files (if needed) and show progress\n",
    "def downloadFiles(files):\n",
    "    import os.path\n",
    "    import ipywidgets as widgets\n",
    "    from urllib.request import urlretrieve\n",
    "    from IPython.display import display\n",
    "\n",
    "    progressBar = widgets.FloatProgress(value=0, min=0, max=100.0, step=0.1, description=\"Progress:\")\n",
    "    \n",
    "    def dlProgress(count, blockSize, totalSize):\n",
    "        percentage = min(float(count * blockSize * 100 / totalSize), 100.0)\n",
    "        progressBar.value = percentage\n",
    "        \n",
    "    for file in files:\n",
    "        path=file['path']\n",
    "        if not os.path.isfile(path) and not os.access(path, os.R_OK):\n",
    "            progressBar = widgets.FloatProgress(value=0, min=0, max=100.0, step=0.1, description=\"Progress:\")\n",
    "            print(\"Downloading {0}:\".format(file['name']))\n",
    "            display(progressBar)\n",
    "            urlretrieve(file['url'], path, reporthook=dlProgress)        \n",
    "        else:\n",
    "            print(\"{0} has already been downloaded\".format(file['name']))\n",
    "            \n",
    "# Download the files (if needed)\n",
    "downloadFiles(files)"
   ]
  },
  {
   "cell_type": "markdown",
   "metadata": {},
   "source": [
    "## Load The `Food-101` Keras model"
   ]
  },
  {
   "cell_type": "code",
   "execution_count": 3,
   "metadata": {
    "scrolled": true
   },
   "outputs": [],
   "source": [
    "model = load_model(basePath + 'keras-food101-model.hdf5')\n",
    "class_labels = basePath + 'keras-food101-model-labels.txt'"
   ]
  },
  {
   "cell_type": "markdown",
   "metadata": {},
   "source": [
    "__List the Food-101 model summary__"
   ]
  },
  {
   "cell_type": "code",
   "execution_count": 4,
   "metadata": {},
   "outputs": [],
   "source": [
    "model.summary()"
   ]
  },
  {
   "cell_type": "markdown",
   "metadata": {},
   "source": [
    "## Convert Keras model to CoreML model"
   ]
  },
  {
   "cell_type": "code",
   "execution_count": 5,
   "metadata": {
    "scrolled": false
   },
   "outputs": [],
   "source": [
    "coreml_model = coremltools.converters.keras.convert(model, \n",
    "                                                    input_names=['image'], \n",
    "                                                    output_names=['confidence'], \n",
    "                                                    class_labels=class_labels,\n",
    "                                                    image_input_names='image', \n",
    "                                                    image_scale=2./255, \n",
    "                                                    red_bias=-1, \n",
    "                                                    green_bias=-1, \n",
    "                                                    blue_bias=-1)"
   ]
  },
  {
   "cell_type": "markdown",
   "metadata": {},
   "source": [
    "## Add metadata to the CoreML model"
   ]
  },
  {
   "cell_type": "code",
   "execution_count": 6,
   "metadata": {},
   "outputs": [],
   "source": [
    "coreml_model.author = 'Jeroen Wesbeek'\n",
    "coreml_model.license = 'MIT'\n",
    "coreml_model.short_description = 'Classifies food from an image as one of 101 classes'\n",
    "coreml_model.input_description['image'] = 'Food image'\n",
    "coreml_model.output_description['confidence'] = 'Confidence of the food classification'\n",
    "coreml_model.output_description['classLabel'] = 'Food classification label'"
   ]
  },
  {
   "cell_type": "markdown",
   "metadata": {},
   "source": [
    "## Inspect the created CoreML model"
   ]
  },
  {
   "cell_type": "code",
   "execution_count": 7,
   "metadata": {},
   "outputs": [],
   "source": [
    "coreml_model"
   ]
  },
  {
   "cell_type": "markdown",
   "metadata": {},
   "source": [
    "## Test the CoreML model predictions\n",
    "\n",
    "__Download a test image and feed it into the CoreML model to get its prediction__\n",
    "\n",
    "_Note: this will only work on macOS 10.13 or later!_"
   ]
  },
  {
   "cell_type": "code",
   "execution_count": 11,
   "metadata": {},
   "outputs": [],
   "source": [
    "import requests\n",
    "from PIL import Image\n",
    "from io import BytesIO\n",
    "\n",
    "response = requests.get('https://www.budgetbytes.com/wp-content/uploads/2017/01/Bibimbap-above.jpg')\n",
    "bibimbap = Image.open(BytesIO(response.content))"
   ]
  },
  {
   "cell_type": "code",
   "execution_count": 12,
   "metadata": {},
   "outputs": [],
   "source": [
    "bibimbap"
   ]
  },
  {
   "cell_type": "code",
   "execution_count": 16,
   "metadata": {
    "scrolled": true
   },
   "outputs": [],
   "source": [
    "import sys\n",
    "try:\n",
    "    coreml_model.predict({'image' : bibimbap})\n",
    "except Exception as inst:\n",
    "    print(\"Could not perform model predictions\", inst.args)"
   ]
  },
  {
   "cell_type": "markdown",
   "metadata": {},
   "source": [
    "## Save the CoreML model\n",
    "\n",
    "_Note: the converted CoreML model will be stored in to [root](http://0.0.0.0:8888/tree/notebook). Please refer to [Apple's documentation](https://developer.apple.com/documentation/coreml) on how to use the CoreML model inside your App._"
   ]
  },
  {
   "cell_type": "code",
   "execution_count": 12,
   "metadata": {},
   "outputs": [],
   "source": [
    "coreml_model.save('Food101Net.mlmodel')"
   ]
  }
 ],
 "metadata": {
  "kernelspec": {
   "display_name": "Python 3",
   "language": "python",
   "name": "python3"
  },
  "language_info": {
   "codemirror_mode": {
    "name": "ipython",
    "version": 3
   },
   "file_extension": ".py",
   "mimetype": "text/x-python",
   "name": "python",
   "nbconvert_exporter": "python",
   "pygments_lexer": "ipython3",
   "version": "3.6.7"
  }
 },
 "nbformat": 4,
 "nbformat_minor": 2
}
